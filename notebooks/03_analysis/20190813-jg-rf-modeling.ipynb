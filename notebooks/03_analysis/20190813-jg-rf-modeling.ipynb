{
 "cells": [
  {
   "cell_type": "code",
   "execution_count": 104,
   "metadata": {},
   "outputs": [],
   "source": [
    "import pandas as pd\n",
    "import numpy as np\n",
    "import seaborn as sns\n",
    "import matplotlib.pyplot as plt\n",
    "from sklearn import metrics\n",
    "from sklearn.model_selection import train_test_split\n",
    "from sklearn.tree import DecisionTreeClassifier\n",
    "from sklearn.linear_model import LogisticRegression\n",
    "from sklearn.ensemble import RandomForestClassifier\n",
    "from sklearn.neighbors import KNeighborsClassifier\n",
    "from sklearn.ensemble import AdaBoostClassifier\n",
    "from xgboost import XGBClassifier, XGBRFClassifier"
   ]
  },
  {
   "cell_type": "markdown",
   "metadata": {},
   "source": [
    "#### Import data"
   ]
  },
  {
   "cell_type": "code",
   "execution_count": 2,
   "metadata": {},
   "outputs": [],
   "source": [
    "housevotes_df = pd.read_csv('../../data/02_intermediate/HouseVotesFeatures_12_18_0814PM.csv')"
   ]
  },
  {
   "cell_type": "code",
   "execution_count": 3,
   "metadata": {},
   "outputs": [
    {
     "data": {
      "text/plain": [
       "(1740, 57)"
      ]
     },
     "execution_count": 3,
     "metadata": {},
     "output_type": "execute_result"
    }
   ],
   "source": [
    "housevotes_df.shape"
   ]
  },
  {
   "cell_type": "code",
   "execution_count": 4,
   "metadata": {},
   "outputs": [
    {
     "data": {
      "text/plain": [
       "(1740, 57)"
      ]
     },
     "execution_count": 4,
     "metadata": {},
     "output_type": "execute_result"
    }
   ],
   "source": [
    "housevotes_df.shape"
   ]
  },
  {
   "cell_type": "markdown",
   "metadata": {},
   "source": [
    "#### Code dummy for `swing_district`\n",
    "\n",
    "Defined as `dem_L10_voteshare` between 0.4 and 0.6\n",
    "\n",
    "`target`: A Democratic win"
   ]
  },
  {
   "cell_type": "code",
   "execution_count": 5,
   "metadata": {},
   "outputs": [
    {
     "data": {
      "text/plain": [
       "0    1227\n",
       "1     513\n",
       "Name: swing_district, dtype: int64"
      ]
     },
     "execution_count": 5,
     "metadata": {},
     "output_type": "execute_result"
    }
   ],
   "source": [
    "housevotes_df['swing_district'] = ((housevotes_df.dem_L5_voteshare > 0.4) & (housevotes_df.dem_L5_voteshare < 0.6)).astype(int)\n",
    "housevotes_df.swing_district.value_counts()"
   ]
  },
  {
   "cell_type": "markdown",
   "metadata": {},
   "source": [
    "### Assign IDs to each district"
   ]
  },
  {
   "cell_type": "code",
   "execution_count": 6,
   "metadata": {},
   "outputs": [],
   "source": [
    "district_id_mapping = dict(zip(housevotes_df.district_id.unique(), np.arange(1, 436)))"
   ]
  },
  {
   "cell_type": "code",
   "execution_count": 8,
   "metadata": {},
   "outputs": [],
   "source": [
    "housevotes_df['idx'] = housevotes_df.district_id.map(district_id_mapping)"
   ]
  },
  {
   "cell_type": "markdown",
   "metadata": {},
   "source": [
    "Old tests to try on our custom TTS function"
   ]
  },
  {
   "cell_type": "code",
   "execution_count": 10,
   "metadata": {},
   "outputs": [],
   "source": [
    "# set(train_s1.idx.unique()) == set(train_s2.idx.unique())"
   ]
  },
  {
   "cell_type": "code",
   "execution_count": 11,
   "metadata": {},
   "outputs": [],
   "source": [
    "# test_set = set(list(set(train.idx.unique())) + [1000, 2000])"
   ]
  },
  {
   "cell_type": "code",
   "execution_count": 12,
   "metadata": {},
   "outputs": [],
   "source": [
    "# set(train.idx.unique()) - set(train_s1.idx.unique()) - set(train_s2.idx.unique())  # looks good"
   ]
  },
  {
   "cell_type": "code",
   "execution_count": 13,
   "metadata": {},
   "outputs": [],
   "source": [
    "# test_set - set(train_s1.idx.unique()) - set(train_s2.idx.unique())  # looks good"
   ]
  },
  {
   "cell_type": "markdown",
   "metadata": {},
   "source": [
    "### Define a custom train-test-split function"
   ]
  },
  {
   "cell_type": "code",
   "execution_count": 14,
   "metadata": {},
   "outputs": [],
   "source": [
    "def district_train_test_split(dataframe, idx_colname, np_seed, tts_seed, test_size):\n",
    "    \"\"\"\n",
    "    Split a dataframe containing numeric IDs for each congressional district\n",
    "    into train and test sets, such that there is no leakage of districts between\n",
    "    the train and test sets.\n",
    "    \n",
    "    Parameters\n",
    "    ----------\n",
    "    \n",
    "        dataframe : a dataframe with a column for district-level numeric ID\n",
    "        idx_colname : the name of the column containing the district numberic ID (string)\n",
    "        np_seed : the random seed for Numpy, for splitting the districts into 2 samples\n",
    "        tts_seed : the random state seed to be passed into train_test_split()\n",
    "        test_size : the test size to be passed into train_test_split()\n",
    "        \n",
    "    Returns\n",
    "    -------\n",
    "        X_train, X_test, y_train, y_test (also prints a report on their shapes)\n",
    "        \n",
    "    \"\"\"\n",
    "    np.random.seed(np_seed)\n",
    "    population = np.arange(1, 436)\n",
    "    sample_1_ids = np.random.choice(population, 200, replace=False)\n",
    "    sample_2_ids = list(set(population) - set(sample_1_ids))\n",
    "    sample_1 = dataframe[dataframe[idx_colname].isin(sample_1_ids)]\n",
    "    sample_2 = dataframe[dataframe[idx_colname].isin(sample_2_ids)]\n",
    "    train_s1, test_s1 = train_test_split(sample_1, \n",
    "                                         test_size=test_size, \n",
    "                                         random_state=tts_seed, \n",
    "                                         stratify=sample_1[['target', 'swing_district']]\n",
    "                                        )\n",
    "    train_s2, test_s2 = train_test_split(sample_2,\n",
    "                                         test_size=test_size,\n",
    "                                         random_state=tts_seed, \n",
    "                                         stratify=sample_2[['target', 'swing_district']]\n",
    "                                        )\n",
    "    train = pd.concat([train_s1, train_s2], axis=0)\n",
    "    test = pd.concat([test_s1, test_s2], axis=0)\n",
    "    X_train = train.drop(['target', 'idx', 'swing_district'], axis=True)\n",
    "    y_train = train['target']\n",
    "    X_test = test.drop(['target', 'idx', 'swing_district'], axis=True)\n",
    "    y_test = test['target']\n",
    "\n",
    "    print('Shape for X_train:', X_train.shape)\n",
    "    print('Shape for y_train:', y_train.shape)\n",
    "    print('Shape for X_test:', X_test.shape)\n",
    "    print('Shape for y_test:', y_test.shape)\n",
    "    \n",
    "    return X_train, X_test, y_train, y_test"
   ]
  },
  {
   "cell_type": "markdown",
   "metadata": {},
   "source": [
    "## Model 1\n",
    "\n",
    "Regressors: Just House vote histories"
   ]
  },
  {
   "cell_type": "code",
   "execution_count": 15,
   "metadata": {},
   "outputs": [],
   "source": [
    "m1 = [\n",
    "#  'yr_district_id',\n",
    "#  'winner_votes',\n",
    "#  'totalvotes',\n",
    "#  'year',\n",
    "#  'state',\n",
    "#  'winner',\n",
    "#  'winner_party',\n",
    "#  'writein',\n",
    "#  'district_id',\n",
    "#  'winner_voteshare',\n",
    "#  'total_dem_votes',\n",
    "#  'total_rep_votes',\n",
    "#  'total_dem_vote_share',\n",
    "#  'total_rep_vote_share',\n",
    "#  'L1_winner',\n",
    "#  'L2_winner',\n",
    "#  'L3_winner',\n",
    "#  'L4_winner',\n",
    "#  'L5_winner',\n",
    "#  'L6_winner',\n",
    "#  'L7_winner',\n",
    "#  'L8_winner',\n",
    "#  'L9_winner',\n",
    "#  'L10_winner',\n",
    "#  'incumbent_party',\n",
    " 'dL1_winner',\n",
    " 'dL2_winner',\n",
    " 'dL3_winner',\n",
    " 'dL4_winner',\n",
    " 'dL5_winner',\n",
    " 'dL6_winner',\n",
    " 'dL7_winner',\n",
    " 'dL8_winner',\n",
    " 'dL9_winner',\n",
    " 'dL10_winner',\n",
    " 'incumbent_L5_races',\n",
    " 'incumbent_L4_races',\n",
    " 'incumbent_L3_races',\n",
    " 'incumbent_L2_races',\n",
    " 'incumbent_L10_races',\n",
    "#  'rep_wins',\n",
    "#  'dem_wins',\n",
    " 'rep_L5_wins',\n",
    " 'rep_L4_wins',\n",
    " 'rep_L3_wins',\n",
    " 'rep_L2_wins',\n",
    " 'rep_L1_wins',\n",
    " 'rep_L10_wins',\n",
    " 'dem_L10_wins',\n",
    " 'dem_L5_wins',\n",
    " 'dem_L4_wins',\n",
    " 'dem_L3_wins',\n",
    " 'dem_L2_wins',\n",
    " 'dem_L1_wins',\n",
    " 'rep_L10_voteshare',\n",
    " 'rep_L5_voteshare',\n",
    " 'rep_L4_voteshare',\n",
    " 'rep_L3_voteshare',\n",
    " 'rep_L2_voteshare',\n",
    " 'rep_L1_voteshare',\n",
    " 'dem_L10_voteshare',\n",
    " 'dem_L5_voteshare',\n",
    " 'dem_L4_voteshare',\n",
    " 'dem_L3_voteshare',\n",
    " 'dem_L2_voteshare',\n",
    " 'dem_L1_voteshare',\n",
    " 'target',\n",
    "#  'top_dem_votes',\n",
    "#  'top_dem_candidate',\n",
    "#  'top_rep_votes',\n",
    "#  'top_rep_candidate',\n",
    " 'dem_incumbent_in_race',\n",
    " 'rep_incumbent_in_race',\n",
    " 'swing_district',\n",
    " 'idx'\n",
    "]"
   ]
  },
  {
   "cell_type": "code",
   "execution_count": 25,
   "metadata": {},
   "outputs": [],
   "source": [
    "features_model_1 = [\n",
    " 'dL1_winner',\n",
    " 'dL2_winner',\n",
    " 'dL3_winner',\n",
    " 'dL4_winner',\n",
    " 'dL5_winner',\n",
    "#  'dL6_winner',\n",
    "#  'dL7_winner',\n",
    "#  'dL8_winner',\n",
    "#  'dL9_winner',\n",
    "#  'dL10_winner',\n",
    " 'incumbent_L5_races',\n",
    " 'incumbent_L4_races',\n",
    " 'incumbent_L3_races',\n",
    " 'incumbent_L2_races',\n",
    "#  'incumbent_L10_races',\n",
    " 'rep_L5_wins',\n",
    "#  'rep_L10_wins',\n",
    "#  'dem_L10_wins',\n",
    " 'dem_L5_wins',\n",
    " 'rep_L4_wins',\n",
    " 'rep_L3_wins',\n",
    " 'rep_L2_wins',\n",
    " 'rep_L1_wins',\n",
    " 'dem_L4_wins',\n",
    " 'dem_L3_wins',\n",
    " 'dem_L2_wins',\n",
    " 'dem_L1_wins',\n",
    " 'rep_L5_voteshare',\n",
    "#  'rep_L10_voteshare',\n",
    " 'rep_L4_voteshare',\n",
    " 'rep_L3_voteshare',\n",
    " 'rep_L2_voteshare',\n",
    " 'rep_L1_voteshare',\n",
    "#  'dem_L10_voteshare',\n",
    " 'dem_L5_voteshare',\n",
    " 'dem_L4_voteshare',\n",
    " 'dem_L3_voteshare',\n",
    " 'dem_L2_voteshare',\n",
    " 'dem_L1_voteshare',\n",
    " 'target',\n",
    " 'dem_incumbent_in_race',\n",
    " 'rep_incumbent_in_race',\n",
    " 'swing_district',\n",
    " 'idx'\n",
    "]"
   ]
  },
  {
   "cell_type": "code",
   "execution_count": 26,
   "metadata": {},
   "outputs": [
    {
     "data": {
      "text/plain": [
       "44"
      ]
     },
     "execution_count": 26,
     "metadata": {},
     "output_type": "execute_result"
    }
   ],
   "source": [
    "len(m1)"
   ]
  },
  {
   "cell_type": "code",
   "execution_count": 27,
   "metadata": {},
   "outputs": [
    {
     "data": {
      "text/plain": [
       "34"
      ]
     },
     "execution_count": 27,
     "metadata": {},
     "output_type": "execute_result"
    }
   ],
   "source": [
    "len(features_model_1)"
   ]
  },
  {
   "cell_type": "markdown",
   "metadata": {},
   "source": [
    "#### Train test split with `features_model_1`"
   ]
  },
  {
   "cell_type": "code",
   "execution_count": 81,
   "metadata": {},
   "outputs": [
    {
     "name": "stdout",
     "output_type": "stream",
     "text": [
      "Shape for X_train: (1392, 31)\n",
      "Shape for y_train: (1392,)\n",
      "Shape for X_test: (348, 31)\n",
      "Shape for y_test: (348,)\n"
     ]
    }
   ],
   "source": [
    "X_train, X_test, y_train, y_test = district_train_test_split(dataframe=housevotes_df[features_model_1], \n",
    "                                                             idx_colname='idx',\n",
    "                                                             np_seed=123, \n",
    "                                                             tts_seed=123, \n",
    "                                                             test_size=0.2\n",
    "                                                             )"
   ]
  },
  {
   "cell_type": "markdown",
   "metadata": {},
   "source": [
    "Heatmap to visualize correlations"
   ]
  },
  {
   "cell_type": "code",
   "execution_count": 74,
   "metadata": {
    "scrolled": true
   },
   "outputs": [],
   "source": [
    "# housevotes_df[features_model_1].corr()[['target']]"
   ]
  },
  {
   "cell_type": "code",
   "execution_count": 75,
   "metadata": {},
   "outputs": [],
   "source": [
    "# plt.figure(figsize = (20,16))\n",
    "# sns.heatmap(housevotes_df[features_model_1].corr(), center=0, annot = True)"
   ]
  },
  {
   "cell_type": "markdown",
   "metadata": {},
   "source": [
    "## Random Forest"
   ]
  },
  {
   "cell_type": "markdown",
   "metadata": {},
   "source": [
    "**Test #1:** use 2012, 2014 2016 as training set, and 2018 as the testing set\n",
    "\n",
    "Along with all features in `features_model_1`\n",
    "\n",
    "NOT using our custom train-test-split"
   ]
  },
  {
   "cell_type": "code",
   "execution_count": 76,
   "metadata": {},
   "outputs": [
    {
     "data": {
      "text/plain": [
       "(1305, 59)"
      ]
     },
     "execution_count": 76,
     "metadata": {},
     "output_type": "execute_result"
    }
   ],
   "source": [
    "# train = housevotes_df[housevotes_df.year.isin([2012, 2014, 2016])]\n",
    "# train.shape"
   ]
  },
  {
   "cell_type": "code",
   "execution_count": 77,
   "metadata": {},
   "outputs": [
    {
     "data": {
      "text/plain": [
       "(435, 59)"
      ]
     },
     "execution_count": 77,
     "metadata": {},
     "output_type": "execute_result"
    }
   ],
   "source": [
    "# test = housevotes_df[housevotes_df.year.isin([2018])]\n",
    "# test.shape"
   ]
  },
  {
   "cell_type": "code",
   "execution_count": 78,
   "metadata": {},
   "outputs": [
    {
     "name": "stdout",
     "output_type": "stream",
     "text": [
      "(1305, 31)\n",
      "(1305,)\n"
     ]
    }
   ],
   "source": [
    "# X_train = train[features_model_1].drop(['target', 'idx', 'swing_district'], axis=1)\n",
    "# y_train = train['target']\n",
    "# print(X_train.shape)\n",
    "# print(y_train.shape)"
   ]
  },
  {
   "cell_type": "code",
   "execution_count": 79,
   "metadata": {},
   "outputs": [
    {
     "name": "stdout",
     "output_type": "stream",
     "text": [
      "(435, 31)\n",
      "(435,)\n"
     ]
    }
   ],
   "source": [
    "# X_test = test[features_model_1].drop(['target', 'idx', 'swing_district'], axis=1)\n",
    "# y_test = test['target']\n",
    "# print(X_test.shape)\n",
    "# print(y_test.shape)"
   ]
  },
  {
   "cell_type": "markdown",
   "metadata": {},
   "source": [
    "**Null accuracy**: \"accuracy that could be achieved by always predicting the most frequent class\""
   ]
  },
  {
   "cell_type": "code",
   "execution_count": 61,
   "metadata": {},
   "outputs": [],
   "source": [
    "# max(y_test.mean(), 1 - y_test.mean())"
   ]
  },
  {
   "cell_type": "markdown",
   "metadata": {},
   "source": [
    "#### Test #2 Baseline model\n",
    "\n",
    "Use `dem_L1_wins` as the sole predictor\n",
    "\n",
    "Still splitting train/test on 2012/14/16 and 2018"
   ]
  },
  {
   "cell_type": "code",
   "execution_count": 62,
   "metadata": {},
   "outputs": [],
   "source": [
    "# X_test.dem_L1_wins.mean()"
   ]
  },
  {
   "cell_type": "code",
   "execution_count": 63,
   "metadata": {},
   "outputs": [],
   "source": [
    "# housevotes_df.dem_L1_wins.mean()"
   ]
  },
  {
   "cell_type": "code",
   "execution_count": 64,
   "metadata": {},
   "outputs": [],
   "source": [
    "# y_test.value_counts()"
   ]
  },
  {
   "cell_type": "code",
   "execution_count": 82,
   "metadata": {},
   "outputs": [
    {
     "name": "stdout",
     "output_type": "stream",
     "text": [
      "Test Accuracy score:  0.9425287356321839\n",
      "Test F1 score:  0.940119760479042\n"
     ]
    }
   ],
   "source": [
    "rf = RandomForestClassifier(random_state=23, n_estimators=100)\n",
    "rf.fit(X_train, y_train)\n",
    "y_pred_class = rf.predict(X_test)\n",
    "y_pred_prob = rf.predict_proba(X_test)\n",
    "print('Test Accuracy score: ', metrics.accuracy_score(y_test, y_pred_class))\n",
    "print('Test F1 score: ', metrics.f1_score(y_test, y_pred_class))"
   ]
  },
  {
   "cell_type": "code",
   "execution_count": 83,
   "metadata": {},
   "outputs": [
    {
     "data": {
      "text/plain": [
       "array([[0.  , 1.  ],\n",
       "       [1.  , 0.  ],\n",
       "       [0.  , 1.  ],\n",
       "       [1.  , 0.  ],\n",
       "       [0.  , 1.  ],\n",
       "       [0.  , 1.  ],\n",
       "       [0.  , 1.  ],\n",
       "       [1.  , 0.  ],\n",
       "       [0.66, 0.34],\n",
       "       [0.97, 0.03],\n",
       "       [0.  , 1.  ],\n",
       "       [0.84, 0.16],\n",
       "       [0.21, 0.79],\n",
       "       [0.53, 0.47],\n",
       "       [0.  , 1.  ],\n",
       "       [0.72, 0.28],\n",
       "       [1.  , 0.  ],\n",
       "       [0.93, 0.07],\n",
       "       [0.  , 1.  ],\n",
       "       [0.08, 0.92],\n",
       "       [0.  , 1.  ],\n",
       "       [1.  , 0.  ],\n",
       "       [1.  , 0.  ],\n",
       "       [1.  , 0.  ],\n",
       "       [0.  , 1.  ],\n",
       "       [1.  , 0.  ],\n",
       "       [0.48, 0.52],\n",
       "       [0.  , 1.  ],\n",
       "       [1.  , 0.  ],\n",
       "       [1.  , 0.  ],\n",
       "       [1.  , 0.  ],\n",
       "       [0.  , 1.  ],\n",
       "       [0.  , 1.  ],\n",
       "       [0.99, 0.01],\n",
       "       [0.  , 1.  ],\n",
       "       [1.  , 0.  ],\n",
       "       [1.  , 0.  ],\n",
       "       [1.  , 0.  ],\n",
       "       [1.  , 0.  ],\n",
       "       [0.  , 1.  ],\n",
       "       [0.74, 0.26],\n",
       "       [1.  , 0.  ],\n",
       "       [1.  , 0.  ],\n",
       "       [1.  , 0.  ],\n",
       "       [0.  , 1.  ],\n",
       "       [1.  , 0.  ],\n",
       "       [0.  , 1.  ],\n",
       "       [0.  , 1.  ],\n",
       "       [1.  , 0.  ],\n",
       "       [1.  , 0.  ],\n",
       "       [0.82, 0.18],\n",
       "       [0.  , 1.  ],\n",
       "       [1.  , 0.  ],\n",
       "       [1.  , 0.  ],\n",
       "       [1.  , 0.  ],\n",
       "       [1.  , 0.  ],\n",
       "       [0.  , 1.  ],\n",
       "       [1.  , 0.  ],\n",
       "       [1.  , 0.  ],\n",
       "       [0.  , 1.  ],\n",
       "       [1.  , 0.  ],\n",
       "       [0.  , 1.  ],\n",
       "       [1.  , 0.  ],\n",
       "       [0.47, 0.53],\n",
       "       [1.  , 0.  ],\n",
       "       [0.65, 0.35],\n",
       "       [1.  , 0.  ],\n",
       "       [0.  , 1.  ],\n",
       "       [0.52, 0.48],\n",
       "       [1.  , 0.  ],\n",
       "       [0.94, 0.06],\n",
       "       [1.  , 0.  ],\n",
       "       [1.  , 0.  ],\n",
       "       [1.  , 0.  ],\n",
       "       [0.  , 1.  ],\n",
       "       [0.  , 1.  ],\n",
       "       [1.  , 0.  ],\n",
       "       [0.  , 1.  ],\n",
       "       [0.  , 1.  ],\n",
       "       [0.75, 0.25],\n",
       "       [1.  , 0.  ],\n",
       "       [1.  , 0.  ],\n",
       "       [0.54, 0.46],\n",
       "       [1.  , 0.  ],\n",
       "       [0.62, 0.38],\n",
       "       [0.44, 0.56],\n",
       "       [0.  , 1.  ],\n",
       "       [0.02, 0.98],\n",
       "       [1.  , 0.  ],\n",
       "       [1.  , 0.  ],\n",
       "       [1.  , 0.  ],\n",
       "       [0.04, 0.96],\n",
       "       [0.19, 0.81],\n",
       "       [1.  , 0.  ],\n",
       "       [0.84, 0.16],\n",
       "       [0.  , 1.  ],\n",
       "       [1.  , 0.  ],\n",
       "       [0.  , 1.  ],\n",
       "       [0.  , 1.  ],\n",
       "       [0.  , 1.  ],\n",
       "       [0.  , 1.  ],\n",
       "       [0.99, 0.01],\n",
       "       [0.13, 0.87],\n",
       "       [1.  , 0.  ],\n",
       "       [0.  , 1.  ],\n",
       "       [0.  , 1.  ],\n",
       "       [0.5 , 0.5 ],\n",
       "       [1.  , 0.  ],\n",
       "       [0.09, 0.91],\n",
       "       [1.  , 0.  ],\n",
       "       [0.  , 1.  ],\n",
       "       [0.  , 1.  ],\n",
       "       [1.  , 0.  ],\n",
       "       [1.  , 0.  ],\n",
       "       [0.  , 1.  ],\n",
       "       [1.  , 0.  ],\n",
       "       [0.  , 1.  ],\n",
       "       [0.02, 0.98],\n",
       "       [1.  , 0.  ],\n",
       "       [1.  , 0.  ],\n",
       "       [0.  , 1.  ],\n",
       "       [1.  , 0.  ],\n",
       "       [0.04, 0.96],\n",
       "       [0.23, 0.77],\n",
       "       [1.  , 0.  ],\n",
       "       [0.  , 1.  ],\n",
       "       [0.  , 1.  ],\n",
       "       [0.  , 1.  ],\n",
       "       [1.  , 0.  ],\n",
       "       [0.  , 1.  ],\n",
       "       [0.  , 1.  ],\n",
       "       [0.94, 0.06],\n",
       "       [0.  , 1.  ],\n",
       "       [1.  , 0.  ],\n",
       "       [0.76, 0.24],\n",
       "       [0.24, 0.76],\n",
       "       [0.66, 0.34],\n",
       "       [0.81, 0.19],\n",
       "       [0.  , 1.  ],\n",
       "       [0.  , 1.  ],\n",
       "       [0.  , 1.  ],\n",
       "       [0.18, 0.82],\n",
       "       [0.75, 0.25],\n",
       "       [0.  , 1.  ],\n",
       "       [1.  , 0.  ],\n",
       "       [0.67, 0.33],\n",
       "       [0.  , 1.  ],\n",
       "       [0.06, 0.94],\n",
       "       [1.  , 0.  ],\n",
       "       [0.01, 0.99],\n",
       "       [0.  , 1.  ],\n",
       "       [0.  , 1.  ],\n",
       "       [0.06, 0.94],\n",
       "       [0.88, 0.12],\n",
       "       [0.12, 0.88],\n",
       "       [0.  , 1.  ],\n",
       "       [0.  , 1.  ],\n",
       "       [0.19, 0.81],\n",
       "       [0.9 , 0.1 ],\n",
       "       [1.  , 0.  ],\n",
       "       [1.  , 0.  ],\n",
       "       [0.41, 0.59],\n",
       "       [0.33, 0.67],\n",
       "       [0.  , 1.  ],\n",
       "       [1.  , 0.  ],\n",
       "       [0.54, 0.46],\n",
       "       [1.  , 0.  ],\n",
       "       [1.  , 0.  ],\n",
       "       [0.02, 0.98],\n",
       "       [0.42, 0.58],\n",
       "       [0.55, 0.45],\n",
       "       [0.  , 1.  ],\n",
       "       [0.  , 1.  ],\n",
       "       [0.  , 1.  ],\n",
       "       [1.  , 0.  ],\n",
       "       [0.47, 0.53],\n",
       "       [0.18, 0.82],\n",
       "       [1.  , 0.  ],\n",
       "       [0.43, 0.57],\n",
       "       [0.74, 0.26],\n",
       "       [0.4 , 0.6 ],\n",
       "       [0.  , 1.  ],\n",
       "       [0.01, 0.99],\n",
       "       [0.13, 0.87],\n",
       "       [0.99, 0.01],\n",
       "       [0.  , 1.  ],\n",
       "       [1.  , 0.  ],\n",
       "       [1.  , 0.  ],\n",
       "       [0.  , 1.  ],\n",
       "       [0.  , 1.  ],\n",
       "       [1.  , 0.  ],\n",
       "       [1.  , 0.  ],\n",
       "       [0.  , 1.  ],\n",
       "       [0.12, 0.88],\n",
       "       [0.  , 1.  ],\n",
       "       [1.  , 0.  ],\n",
       "       [0.02, 0.98],\n",
       "       [0.  , 1.  ],\n",
       "       [1.  , 0.  ],\n",
       "       [0.  , 1.  ],\n",
       "       [0.86, 0.14],\n",
       "       [0.  , 1.  ],\n",
       "       [0.  , 1.  ],\n",
       "       [1.  , 0.  ],\n",
       "       [0.49, 0.51],\n",
       "       [0.  , 1.  ],\n",
       "       [0.  , 1.  ],\n",
       "       [1.  , 0.  ],\n",
       "       [0.04, 0.96],\n",
       "       [1.  , 0.  ],\n",
       "       [0.07, 0.93],\n",
       "       [1.  , 0.  ],\n",
       "       [0.  , 1.  ],\n",
       "       [0.  , 1.  ],\n",
       "       [0.47, 0.53],\n",
       "       [1.  , 0.  ],\n",
       "       [1.  , 0.  ],\n",
       "       [0.  , 1.  ],\n",
       "       [0.  , 1.  ],\n",
       "       [1.  , 0.  ],\n",
       "       [1.  , 0.  ],\n",
       "       [0.1 , 0.9 ],\n",
       "       [1.  , 0.  ],\n",
       "       [0.11, 0.89],\n",
       "       [0.92, 0.08],\n",
       "       [1.  , 0.  ],\n",
       "       [1.  , 0.  ],\n",
       "       [0.85, 0.15],\n",
       "       [0.46, 0.54],\n",
       "       [0.  , 1.  ],\n",
       "       [1.  , 0.  ],\n",
       "       [0.17, 0.83],\n",
       "       [0.  , 1.  ],\n",
       "       [1.  , 0.  ],\n",
       "       [1.  , 0.  ],\n",
       "       [0.59, 0.41],\n",
       "       [0.09, 0.91],\n",
       "       [0.  , 1.  ],\n",
       "       [1.  , 0.  ],\n",
       "       [1.  , 0.  ],\n",
       "       [1.  , 0.  ],\n",
       "       [1.  , 0.  ],\n",
       "       [0.26, 0.74],\n",
       "       [1.  , 0.  ],\n",
       "       [1.  , 0.  ],\n",
       "       [1.  , 0.  ],\n",
       "       [0.  , 1.  ],\n",
       "       [0.  , 1.  ],\n",
       "       [0.85, 0.15],\n",
       "       [1.  , 0.  ],\n",
       "       [0.  , 1.  ],\n",
       "       [0.01, 0.99],\n",
       "       [0.  , 1.  ],\n",
       "       [0.19, 0.81],\n",
       "       [0.  , 1.  ],\n",
       "       [0.06, 0.94],\n",
       "       [0.66, 0.34],\n",
       "       [0.  , 1.  ],\n",
       "       [1.  , 0.  ],\n",
       "       [0.01, 0.99],\n",
       "       [0.  , 1.  ],\n",
       "       [0.85, 0.15],\n",
       "       [0.26, 0.74],\n",
       "       [1.  , 0.  ],\n",
       "       [0.49, 0.51],\n",
       "       [0.  , 1.  ],\n",
       "       [0.  , 1.  ],\n",
       "       [0.  , 1.  ],\n",
       "       [0.4 , 0.6 ],\n",
       "       [0.  , 1.  ],\n",
       "       [0.9 , 0.1 ],\n",
       "       [0.02, 0.98],\n",
       "       [0.  , 1.  ],\n",
       "       [0.25, 0.75],\n",
       "       [0.  , 1.  ],\n",
       "       [1.  , 0.  ],\n",
       "       [1.  , 0.  ],\n",
       "       [0.01, 0.99],\n",
       "       [0.19, 0.81],\n",
       "       [0.6 , 0.4 ],\n",
       "       [0.99, 0.01],\n",
       "       [0.11, 0.89],\n",
       "       [0.56, 0.44],\n",
       "       [1.  , 0.  ],\n",
       "       [0.83, 0.17],\n",
       "       [1.  , 0.  ],\n",
       "       [0.  , 1.  ],\n",
       "       [1.  , 0.  ],\n",
       "       [0.  , 1.  ],\n",
       "       [1.  , 0.  ],\n",
       "       [0.91, 0.09],\n",
       "       [1.  , 0.  ],\n",
       "       [0.16, 0.84],\n",
       "       [1.  , 0.  ],\n",
       "       [0.35, 0.65],\n",
       "       [0.19, 0.81],\n",
       "       [0.  , 1.  ],\n",
       "       [1.  , 0.  ],\n",
       "       [1.  , 0.  ],\n",
       "       [0.93, 0.07],\n",
       "       [0.  , 1.  ],\n",
       "       [0.96, 0.04],\n",
       "       [1.  , 0.  ],\n",
       "       [0.88, 0.12],\n",
       "       [0.  , 1.  ],\n",
       "       [0.92, 0.08],\n",
       "       [0.  , 1.  ],\n",
       "       [1.  , 0.  ],\n",
       "       [1.  , 0.  ],\n",
       "       [0.  , 1.  ],\n",
       "       [0.55, 0.45],\n",
       "       [0.  , 1.  ],\n",
       "       [0.  , 1.  ],\n",
       "       [1.  , 0.  ],\n",
       "       [1.  , 0.  ],\n",
       "       [1.  , 0.  ],\n",
       "       [0.  , 1.  ],\n",
       "       [0.81, 0.19],\n",
       "       [0.67, 0.33],\n",
       "       [0.9 , 0.1 ],\n",
       "       [1.  , 0.  ],\n",
       "       [0.91, 0.09],\n",
       "       [0.  , 1.  ],\n",
       "       [0.99, 0.01],\n",
       "       [0.  , 1.  ],\n",
       "       [0.01, 0.99],\n",
       "       [1.  , 0.  ],\n",
       "       [0.13, 0.87],\n",
       "       [0.11, 0.89],\n",
       "       [0.  , 1.  ],\n",
       "       [0.76, 0.24],\n",
       "       [1.  , 0.  ],\n",
       "       [0.  , 1.  ],\n",
       "       [1.  , 0.  ],\n",
       "       [0.  , 1.  ],\n",
       "       [1.  , 0.  ],\n",
       "       [0.75, 0.25],\n",
       "       [1.  , 0.  ],\n",
       "       [0.29, 0.71],\n",
       "       [1.  , 0.  ],\n",
       "       [1.  , 0.  ],\n",
       "       [0.  , 1.  ],\n",
       "       [0.1 , 0.9 ],\n",
       "       [1.  , 0.  ],\n",
       "       [1.  , 0.  ],\n",
       "       [0.98, 0.02],\n",
       "       [0.9 , 0.1 ],\n",
       "       [0.28, 0.72]])"
      ]
     },
     "execution_count": 83,
     "metadata": {},
     "output_type": "execute_result"
    }
   ],
   "source": [
    "y_pred_prob"
   ]
  },
  {
   "cell_type": "code",
   "execution_count": 84,
   "metadata": {},
   "outputs": [
    {
     "data": {
      "text/plain": [
       "array([[171,  13],\n",
       "       [  7, 157]], dtype=int64)"
      ]
     },
     "execution_count": 84,
     "metadata": {},
     "output_type": "execute_result"
    }
   ],
   "source": [
    "metrics.confusion_matrix(y_test, y_pred_class)"
   ]
  },
  {
   "cell_type": "markdown",
   "metadata": {},
   "source": [
    "#### Look at feature importance"
   ]
  },
  {
   "cell_type": "code",
   "execution_count": 85,
   "metadata": {
    "scrolled": true
   },
   "outputs": [
    {
     "data": {
      "text/html": [
       "<div>\n",
       "<style scoped>\n",
       "    .dataframe tbody tr th:only-of-type {\n",
       "        vertical-align: middle;\n",
       "    }\n",
       "\n",
       "    .dataframe tbody tr th {\n",
       "        vertical-align: top;\n",
       "    }\n",
       "\n",
       "    .dataframe thead th {\n",
       "        text-align: right;\n",
       "    }\n",
       "</style>\n",
       "<table border=\"1\" class=\"dataframe\">\n",
       "  <thead>\n",
       "    <tr style=\"text-align: right;\">\n",
       "      <th></th>\n",
       "      <th>feature_name</th>\n",
       "      <th>importance</th>\n",
       "    </tr>\n",
       "  </thead>\n",
       "  <tbody>\n",
       "    <tr>\n",
       "      <th>23</th>\n",
       "      <td>rep_L1_voteshare</td>\n",
       "      <td>0.156</td>\n",
       "    </tr>\n",
       "    <tr>\n",
       "      <th>28</th>\n",
       "      <td>dem_L1_voteshare</td>\n",
       "      <td>0.111</td>\n",
       "    </tr>\n",
       "    <tr>\n",
       "      <th>18</th>\n",
       "      <td>dem_L1_wins</td>\n",
       "      <td>0.109</td>\n",
       "    </tr>\n",
       "    <tr>\n",
       "      <th>14</th>\n",
       "      <td>rep_L1_wins</td>\n",
       "      <td>0.072</td>\n",
       "    </tr>\n",
       "    <tr>\n",
       "      <th>22</th>\n",
       "      <td>rep_L2_voteshare</td>\n",
       "      <td>0.066</td>\n",
       "    </tr>\n",
       "    <tr>\n",
       "      <th>17</th>\n",
       "      <td>dem_L2_wins</td>\n",
       "      <td>0.065</td>\n",
       "    </tr>\n",
       "    <tr>\n",
       "      <th>30</th>\n",
       "      <td>rep_incumbent_in_race</td>\n",
       "      <td>0.042</td>\n",
       "    </tr>\n",
       "    <tr>\n",
       "      <th>27</th>\n",
       "      <td>dem_L2_voteshare</td>\n",
       "      <td>0.038</td>\n",
       "    </tr>\n",
       "    <tr>\n",
       "      <th>21</th>\n",
       "      <td>rep_L3_voteshare</td>\n",
       "      <td>0.038</td>\n",
       "    </tr>\n",
       "    <tr>\n",
       "      <th>13</th>\n",
       "      <td>rep_L2_wins</td>\n",
       "      <td>0.038</td>\n",
       "    </tr>\n",
       "    <tr>\n",
       "      <th>29</th>\n",
       "      <td>dem_incumbent_in_race</td>\n",
       "      <td>0.031</td>\n",
       "    </tr>\n",
       "    <tr>\n",
       "      <th>8</th>\n",
       "      <td>incumbent_L2_races</td>\n",
       "      <td>0.023</td>\n",
       "    </tr>\n",
       "    <tr>\n",
       "      <th>25</th>\n",
       "      <td>dem_L4_voteshare</td>\n",
       "      <td>0.022</td>\n",
       "    </tr>\n",
       "    <tr>\n",
       "      <th>20</th>\n",
       "      <td>rep_L4_voteshare</td>\n",
       "      <td>0.022</td>\n",
       "    </tr>\n",
       "    <tr>\n",
       "      <th>7</th>\n",
       "      <td>incumbent_L3_races</td>\n",
       "      <td>0.021</td>\n",
       "    </tr>\n",
       "    <tr>\n",
       "      <th>16</th>\n",
       "      <td>dem_L3_wins</td>\n",
       "      <td>0.019</td>\n",
       "    </tr>\n",
       "    <tr>\n",
       "      <th>0</th>\n",
       "      <td>dL1_winner</td>\n",
       "      <td>0.018</td>\n",
       "    </tr>\n",
       "    <tr>\n",
       "      <th>19</th>\n",
       "      <td>rep_L5_voteshare</td>\n",
       "      <td>0.017</td>\n",
       "    </tr>\n",
       "    <tr>\n",
       "      <th>6</th>\n",
       "      <td>incumbent_L4_races</td>\n",
       "      <td>0.016</td>\n",
       "    </tr>\n",
       "    <tr>\n",
       "      <th>24</th>\n",
       "      <td>dem_L5_voteshare</td>\n",
       "      <td>0.016</td>\n",
       "    </tr>\n",
       "    <tr>\n",
       "      <th>5</th>\n",
       "      <td>incumbent_L5_races</td>\n",
       "      <td>0.016</td>\n",
       "    </tr>\n",
       "    <tr>\n",
       "      <th>26</th>\n",
       "      <td>dem_L3_voteshare</td>\n",
       "      <td>0.016</td>\n",
       "    </tr>\n",
       "    <tr>\n",
       "      <th>15</th>\n",
       "      <td>dem_L4_wins</td>\n",
       "      <td>0.007</td>\n",
       "    </tr>\n",
       "    <tr>\n",
       "      <th>1</th>\n",
       "      <td>dL2_winner</td>\n",
       "      <td>0.006</td>\n",
       "    </tr>\n",
       "    <tr>\n",
       "      <th>12</th>\n",
       "      <td>rep_L3_wins</td>\n",
       "      <td>0.004</td>\n",
       "    </tr>\n",
       "    <tr>\n",
       "      <th>11</th>\n",
       "      <td>rep_L4_wins</td>\n",
       "      <td>0.003</td>\n",
       "    </tr>\n",
       "    <tr>\n",
       "      <th>10</th>\n",
       "      <td>dem_L5_wins</td>\n",
       "      <td>0.002</td>\n",
       "    </tr>\n",
       "    <tr>\n",
       "      <th>9</th>\n",
       "      <td>rep_L5_wins</td>\n",
       "      <td>0.002</td>\n",
       "    </tr>\n",
       "    <tr>\n",
       "      <th>2</th>\n",
       "      <td>dL3_winner</td>\n",
       "      <td>0.001</td>\n",
       "    </tr>\n",
       "    <tr>\n",
       "      <th>4</th>\n",
       "      <td>dL5_winner</td>\n",
       "      <td>0.000</td>\n",
       "    </tr>\n",
       "    <tr>\n",
       "      <th>3</th>\n",
       "      <td>dL4_winner</td>\n",
       "      <td>0.000</td>\n",
       "    </tr>\n",
       "  </tbody>\n",
       "</table>\n",
       "</div>"
      ],
      "text/plain": [
       "             feature_name importance\n",
       "23       rep_L1_voteshare      0.156\n",
       "28       dem_L1_voteshare      0.111\n",
       "18            dem_L1_wins      0.109\n",
       "14            rep_L1_wins      0.072\n",
       "22       rep_L2_voteshare      0.066\n",
       "17            dem_L2_wins      0.065\n",
       "30  rep_incumbent_in_race      0.042\n",
       "27       dem_L2_voteshare      0.038\n",
       "21       rep_L3_voteshare      0.038\n",
       "13            rep_L2_wins      0.038\n",
       "29  dem_incumbent_in_race      0.031\n",
       "8      incumbent_L2_races      0.023\n",
       "25       dem_L4_voteshare      0.022\n",
       "20       rep_L4_voteshare      0.022\n",
       "7      incumbent_L3_races      0.021\n",
       "16            dem_L3_wins      0.019\n",
       "0              dL1_winner      0.018\n",
       "19       rep_L5_voteshare      0.017\n",
       "6      incumbent_L4_races      0.016\n",
       "24       dem_L5_voteshare      0.016\n",
       "5      incumbent_L5_races      0.016\n",
       "26       dem_L3_voteshare      0.016\n",
       "15            dem_L4_wins      0.007\n",
       "1              dL2_winner      0.006\n",
       "12            rep_L3_wins      0.004\n",
       "11            rep_L4_wins      0.003\n",
       "10            dem_L5_wins      0.002\n",
       "9             rep_L5_wins      0.002\n",
       "2              dL3_winner      0.001\n",
       "4              dL5_winner      0.000\n",
       "3              dL4_winner      0.000"
      ]
     },
     "execution_count": 85,
     "metadata": {},
     "output_type": "execute_result"
    }
   ],
   "source": [
    "feat_importance = pd.DataFrame((zip(X_train.columns, rf.feature_importances_)))\n",
    "feat_importance.columns = ['feature_name', 'importance']\n",
    "feat_importance.importance = feat_importance.importance.apply(lambda x: '%.3f' % x) \n",
    "feat_importance.sort_values('importance', ascending=False)"
   ]
  },
  {
   "cell_type": "markdown",
   "metadata": {},
   "source": [
    "## Logistic regression"
   ]
  },
  {
   "cell_type": "code",
   "execution_count": 89,
   "metadata": {},
   "outputs": [
    {
     "name": "stdout",
     "output_type": "stream",
     "text": [
      "Test Accuracy score:  0.9310344827586207\n",
      "Test F1 score:  0.9263803680981596\n"
     ]
    },
    {
     "name": "stderr",
     "output_type": "stream",
     "text": [
      "c:\\users\\joey\\learn-env2\\lib\\site-packages\\sklearn\\linear_model\\logistic.py:432: FutureWarning: Default solver will be changed to 'lbfgs' in 0.22. Specify a solver to silence this warning.\n",
      "  FutureWarning)\n"
     ]
    },
    {
     "data": {
      "text/plain": [
       "array([[173,  11],\n",
       "       [ 13, 151]], dtype=int64)"
      ]
     },
     "execution_count": 89,
     "metadata": {},
     "output_type": "execute_result"
    }
   ],
   "source": [
    "logreg = LogisticRegression()\n",
    "logreg.fit(X_train, y_train)\n",
    "y_pred_class = logreg.predict(X_test)\n",
    "print('Test Accuracy score: ', metrics.accuracy_score(y_test, y_pred_class))\n",
    "print('Test F1 score: ', metrics.f1_score(y_test, y_pred_class))\n",
    "metrics.confusion_matrix(y_test, y_pred_class)"
   ]
  },
  {
   "cell_type": "markdown",
   "metadata": {},
   "source": [
    "## KNN"
   ]
  },
  {
   "cell_type": "code",
   "execution_count": 98,
   "metadata": {},
   "outputs": [],
   "source": [
    "scores = []\n",
    "for k in range(1, 36):\n",
    "    knn = KNeighborsClassifier(n_neighbors=k)\n",
    "    knn.fit(X_train, y_train)\n",
    "    y_pred_class = knn.predict(X_test)\n",
    "#     print('Test Accuracy score: ', metrics.accuracy_score(y_test, y_pred_class))\n",
    "#     print('Test F1 score: ', metrics.f1_score(y_test, y_pred_class))\n",
    "    scores.append(metrics.accuracy_score(y_test, y_pred_class))"
   ]
  },
  {
   "cell_type": "code",
   "execution_count": 99,
   "metadata": {},
   "outputs": [
    {
     "data": {
      "text/plain": [
       "[<matplotlib.lines.Line2D at 0x1065f530>]"
      ]
     },
     "execution_count": 99,
     "metadata": {},
     "output_type": "execute_result"
    },
    {
     "data": {
      "image/png": "[encoded data removed]",
      "text/plain": [
       "<Figure size 432x288 with 1 Axes>"
      ]
     },
     "metadata": {
      "needs_background": "light"
     },
     "output_type": "display_data"
    }
   ],
   "source": [
    "plt.plot(range(1, 36), scores)  # set k=25"
   ]
  },
  {
   "cell_type": "code",
   "execution_count": 100,
   "metadata": {},
   "outputs": [
    {
     "name": "stdout",
     "output_type": "stream",
     "text": [
      "Test Accuracy score:  0.9454022988505747\n",
      "Test F1 score:  0.9422492401215805\n"
     ]
    },
    {
     "data": {
      "text/plain": [
       "array([[174,  10],\n",
       "       [  9, 155]], dtype=int64)"
      ]
     },
     "execution_count": 100,
     "metadata": {},
     "output_type": "execute_result"
    }
   ],
   "source": [
    "knn = KNeighborsClassifier(n_neighbors=25)\n",
    "knn.fit(X_train, y_train)\n",
    "y_pred_class = knn.predict(X_test)\n",
    "print('Test Accuracy score: ', metrics.accuracy_score(y_test, y_pred_class))\n",
    "print('Test F1 score: ', metrics.f1_score(y_test, y_pred_class))\n",
    "metrics.confusion_matrix(y_test, y_pred_class)"
   ]
  },
  {
   "cell_type": "markdown",
   "metadata": {},
   "source": [
    "## AdaBoost"
   ]
  },
  {
   "cell_type": "code",
   "execution_count": 103,
   "metadata": {},
   "outputs": [
    {
     "name": "stdout",
     "output_type": "stream",
     "text": [
      "0.9209770114942529\n",
      "0.9195402298850575\n"
     ]
    }
   ],
   "source": [
    "ada_class = AdaBoostClassifier(random_state = 12)\n",
    "ada_class.fit(X_train, y_train)\n",
    "print(ada_class.score(X_train, y_train))\n",
    "print(ada_class.score(X_test, y_test))"
   ]
  },
  {
   "cell_type": "markdown",
   "metadata": {},
   "source": [
    "## XGBoost"
   ]
  },
  {
   "cell_type": "code",
   "execution_count": 105,
   "metadata": {},
   "outputs": [
    {
     "name": "stdout",
     "output_type": "stream",
     "text": [
      "0.9626436781609196\n",
      "0.9482758620689655\n",
      "0.9461206896551724\n",
      "0.9511494252873564\n"
     ]
    }
   ],
   "source": [
    "xgb_class = XGBClassifier(random_state = 12)\n",
    "xgb_rf_class = XGBRFClassifier(random_state = 12)\n",
    "xgb_class.fit(X_train, y_train)\n",
    "print(xgb_class.score(X_train, y_train))\n",
    "print(xgb_class.score(X_test, y_test))\n",
    "\n",
    "xgb_rf_class.fit(X_train, y_train)\n",
    "print(xgb_rf_class.score(X_train, y_train))\n",
    "print(xgb_rf_class.score(X_test, y_test))"
   ]
  },
  {
   "cell_type": "code",
   "execution_count": null,
   "metadata": {},
   "outputs": [],
   "source": []
  },
  {
   "cell_type": "code",
   "execution_count": null,
   "metadata": {},
   "outputs": [],
   "source": []
  },
  {
   "cell_type": "code",
   "execution_count": null,
   "metadata": {},
   "outputs": [],
   "source": []
  },
  {
   "cell_type": "code",
   "execution_count": null,
   "metadata": {},
   "outputs": [],
   "source": []
  },
  {
   "cell_type": "markdown",
   "metadata": {},
   "source": [
    "## Testing (Omer's ideas)"
   ]
  },
  {
   "cell_type": "code",
   "execution_count": null,
   "metadata": {
    "scrolled": true
   },
   "outputs": [],
   "source": [
    "(housevotes_df.dem_L2_wins - housevotes_df.dem_L1_wins)."
   ]
  },
  {
   "cell_type": "code",
   "execution_count": null,
   "metadata": {
    "scrolled": true
   },
   "outputs": [],
   "source": [
    "test_flips_df = housevotes_df[(housevotes_df.target - housevotes_df.dem_L1_wins) != 0]  # flips in either direction\n",
    "test_flips_df.shape"
   ]
  },
  {
   "cell_type": "code",
   "execution_count": null,
   "metadata": {},
   "outputs": [],
   "source": [
    "(housevotes_df.target - housevotes_df.dem_L1_wins).value_counts()"
   ]
  },
  {
   "cell_type": "code",
   "execution_count": null,
   "metadata": {},
   "outputs": [],
   "source": [
    "test_flips_df.groupby(['dem_L1_wins', 'dem_L2_wins']).size()"
   ]
  },
  {
   "cell_type": "code",
   "execution_count": null,
   "metadata": {},
   "outputs": [],
   "source": [
    "housevotes_df.dem_L2_wins.value_counts()"
   ]
  },
  {
   "cell_type": "code",
   "execution_count": null,
   "metadata": {},
   "outputs": [],
   "source": []
  },
  {
   "cell_type": "code",
   "execution_count": null,
   "metadata": {},
   "outputs": [],
   "source": []
  },
  {
   "cell_type": "code",
   "execution_count": null,
   "metadata": {},
   "outputs": [],
   "source": []
  },
  {
   "cell_type": "code",
   "execution_count": null,
   "metadata": {},
   "outputs": [],
   "source": []
  },
  {
   "cell_type": "code",
   "execution_count": null,
   "metadata": {},
   "outputs": [],
   "source": []
  },
  {
   "cell_type": "code",
   "execution_count": null,
   "metadata": {},
   "outputs": [],
   "source": []
  },
  {
   "cell_type": "code",
   "execution_count": null,
   "metadata": {},
   "outputs": [],
   "source": []
  },
  {
   "cell_type": "code",
   "execution_count": null,
   "metadata": {},
   "outputs": [],
   "source": []
  },
  {
   "cell_type": "code",
   "execution_count": null,
   "metadata": {},
   "outputs": [],
   "source": []
  },
  {
   "cell_type": "code",
   "execution_count": null,
   "metadata": {},
   "outputs": [],
   "source": [
    "test_df = pd.concat([X_test.reset_index(drop=True), pd.Series(y_pred_prob[:, 1]), y_test.reset_index(drop=True)], axis=1)\n",
    "test_df = test_df.rename(columns={0:'predicted_proba'})\n",
    "test_df.loc[(test_df.swing_district == 1) & (test_df.incumbent_in_race == 0), ['dL1_winner', \n",
    "                                                                               'dL1_winner', \n",
    "                                                                               'incumbent_L3_races', \n",
    "                                                                               'incumbent_in_race', \n",
    "#                                                                                'swing_district', \n",
    "                                                                               'predicted_proba', \n",
    "                                                                               'target']]#.shape"
   ]
  },
  {
   "cell_type": "code",
   "execution_count": null,
   "metadata": {
    "scrolled": true
   },
   "outputs": [],
   "source": []
  },
  {
   "cell_type": "code",
   "execution_count": null,
   "metadata": {},
   "outputs": [],
   "source": []
  },
  {
   "cell_type": "code",
   "execution_count": null,
   "metadata": {},
   "outputs": [],
   "source": []
  },
  {
   "cell_type": "code",
   "execution_count": null,
   "metadata": {},
   "outputs": [],
   "source": []
  },
  {
   "cell_type": "code",
   "execution_count": null,
   "metadata": {},
   "outputs": [],
   "source": []
  },
  {
   "cell_type": "code",
   "execution_count": null,
   "metadata": {},
   "outputs": [],
   "source": []
  },
  {
   "cell_type": "markdown",
   "metadata": {},
   "source": [
    "## To do:\n",
    "\n",
    "- Try MERF, logistic, knn\n",
    "- baseline model: always predict what it was before (using just 1 lag term)\n",
    "- check all columns are supposed to be there\n",
    "- dig into exact observations where it changed to 1 in 2018, what is driving the prediction there\n",
    "- build a model with swing states (the 60) matched on 60 non-swings, try with other estimators too (logistic, SVM, etc.)\n",
    "\n",
    "Later:\n",
    "- grid search for hyperparameter tuning\n",
    "- k-folds cross validataion"
   ]
  },
  {
   "cell_type": "code",
   "execution_count": null,
   "metadata": {},
   "outputs": [],
   "source": []
  },
  {
   "cell_type": "code",
   "execution_count": null,
   "metadata": {},
   "outputs": [],
   "source": []
  },
  {
   "cell_type": "code",
   "execution_count": null,
   "metadata": {},
   "outputs": [],
   "source": []
  }
 ],
 "metadata": {
  "kernelspec": {
   "display_name": "Python 3",
   "language": "python",
   "name": "python3"
  },
  "language_info": {
   "codemirror_mode": {
    "name": "ipython",
    "version": 3
   },
   "file_extension": ".py",
   "mimetype": "text/x-python",
   "name": "python",
   "nbconvert_exporter": "python",
   "pygments_lexer": "ipython3",
   "version": "3.7.4"
  }
 },
 "nbformat": 4,
 "nbformat_minor": 2
}
